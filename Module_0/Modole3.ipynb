{
 "cells": [
  {
   "cell_type": "code",
   "execution_count": 4,
   "metadata": {},
   "outputs": [
    {
     "name": "stdout",
     "output_type": "stream",
     "text": [
      "Загадано число от 1 до 100\n",
      "Ваш алгоритм угадывает число в среднем за 5 попыток\n"
     ]
    },
    {
     "data": {
      "text/plain": [
       "5"
      ]
     },
     "execution_count": 4,
     "metadata": {},
     "output_type": "execute_result"
    }
   ],
   "source": [
    "import numpy as np\n",
    "\n",
    "number = np.random.randint(1,101)      # загадали число\n",
    "print (\"Загадано число от 1 до 100\")\n",
    "\n",
    "def score_game(game_core):\n",
    "    '''Запускаем игру 1000 раз, чтобы узнать, как быстро игра угадывает число'''\n",
    "    count_ls = []\n",
    "    np.random.seed(1)  # фиксируем RANDOM SEED, чтобы ваш эксперимент был воспроизводим!\n",
    "    random_array = np.random.randint(1,101, size=(1000))\n",
    "    for number in random_array:\n",
    "        count_ls.append(game_core(number))\n",
    "    score = int(np.mean(count_ls))\n",
    "    print(f\"Ваш алгоритм угадывает число в среднем за {score} попыток\")\n",
    "    return(score)\n",
    "\n",
    "def game_core_v3(number):\n",
    "    '''Используем алгоритм бинарного поиска для определения области массива в которой находится угадываемое число'''\n",
    "    count = 1\n",
    "    first = 1\n",
    "    last = 101\n",
    "    number = np.random.randint(1,101) #Присваиваем переменной number случайное число от 1 до 100\n",
    "    predict = (first + last) // 2 #Присваиваем переменной predict значение среднего элемента последовательности\n",
    "    while predict != number: #Цикл с условием выполнения до тех пор, пока число не совпадет с загаданным\n",
    "        if number < predict: #В случае если число меньше среднего элемента, то присваиваем последнему элементу значение среднего\n",
    "            last = predict\n",
    "        elif number > predict: #В случае если число больше среднего элемента, то присваиваем первому элементу значение среднего\n",
    "            first = predict\n",
    "        count+=1 #Переменная счетчик, в случае неудачной попытки увеличивается на единицу\n",
    "        predict = first + (last - first) // 2 #Исключаем область поиска в которой точно отсутствует загаданный элемент\n",
    "    return count\n",
    "\n",
    "score_game(game_core_v3)"
   ]
  }
 ],
 "metadata": {
  "kernelspec": {
   "display_name": "Python 3",
   "language": "python",
   "name": "python3"
  }
 },
 "nbformat": 4,
 "nbformat_minor": 4
}
